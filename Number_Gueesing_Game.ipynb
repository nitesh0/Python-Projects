{
  "nbformat": 4,
  "nbformat_minor": 0,
  "metadata": {
    "colab": {
      "provenance": []
    },
    "kernelspec": {
      "name": "python3",
      "display_name": "Python 3"
    },
    "language_info": {
      "name": "python"
    }
  },
  "cells": [
    {
      "cell_type": "markdown",
      "source": [
        "# **Number Guessing Game using Python**"
      ],
      "metadata": {
        "id": "pj8bI_DF_h0H"
      }
    },
    {
      "cell_type": "code",
      "source": [
        "import random\n",
        "number = random.randrange(0,10)\n",
        "guess = int(input(\"Enter the Number: \"))\n",
        "while number!= guess:\n",
        "  if(guess<number):\n",
        "    print(\"Number is too small\")\n",
        "    guess = int(input(\"Enter the Number: \"))\n",
        "\n",
        "  elif(guess>number):\n",
        "    print(\"Number is too big\")\n",
        "    guess = int(input(\"Enter the Number: \"))\n",
        "\n",
        "  else:\n",
        "    break\n",
        "print(\"Guessed right, you win!!\")\n"
      ],
      "metadata": {
        "colab": {
          "base_uri": "https://localhost:8080/"
        },
        "id": "fKZ2RzpE_ndC",
        "outputId": "a09e7f11-8ce0-4065-82a1-b13e23b4c32b"
      },
      "execution_count": 2,
      "outputs": [
        {
          "output_type": "stream",
          "name": "stdout",
          "text": [
            "Enter the Number: 5\n",
            "Number is too big\n",
            "Enter the Number: 2\n",
            "Number is too big\n",
            "Enter the Number: 1\n",
            "Guessed right, you win!!\n"
          ]
        }
      ]
    },
    {
      "cell_type": "markdown",
      "source": [
        "If the guessed number is lower than the randomly selected number, the user will see “Number is too small”. If the guessed number is higher than the randomly selected number, the user will see “Number is too high”. When the user guesses the correct number, “Guessed right, you win!!” will be displayed in the output."
      ],
      "metadata": {
        "id": "L6KXCFRaCiBC"
      }
    },
    {
      "cell_type": "code",
      "source": [],
      "metadata": {
        "id": "4ode-v0iCItH"
      },
      "execution_count": null,
      "outputs": []
    }
  ]
}