{
  "nbformat": 4,
  "nbformat_minor": 0,
  "metadata": {
    "colab": {
      "provenance": [],
      "authorship_tag": "ABX9TyPEtf9ajQbffAk/87yYIe/6"
    },
    "kernelspec": {
      "name": "python3",
      "display_name": "Python 3"
    },
    "language_info": {
      "name": "python"
    }
  },
  "cells": [
    {
      "cell_type": "markdown",
      "source": [
        "# **Group Anagrams using Python**"
      ],
      "metadata": {
        "id": "yHnMC1DMG0Ep"
      }
    },
    {
      "cell_type": "markdown",
      "source": [
        "Anagrams are words formed by rearranging the letters of another word, For example, car and arc, cat and act, etc. "
      ],
      "metadata": {
        "id": "NANzjLFWG4JN"
      }
    },
    {
      "cell_type": "markdown",
      "source": [
        "# **Mean**"
      ],
      "metadata": {
        "id": "i-osv5Knqcqr"
      }
    },
    {
      "cell_type": "markdown",
      "source": [
        "The mean is the average value of all the values in a dataset. To calculate the mean value of a dataset, we first need to find the sum of all the values and then divide the sum of all the values by the total number of values. "
      ],
      "metadata": {
        "id": "Ax_nzZ5ZqlDU"
      }
    },
    {
      "cell_type": "code",
      "execution_count": null,
      "metadata": {
        "id": "7Q953_9WGrJY",
        "colab": {
          "base_uri": "https://localhost:8080/"
        },
        "outputId": "d519b2b0-60a5-4dbf-c515-336ae598831c"
      },
      "outputs": [
        {
          "output_type": "stream",
          "name": "stdout",
          "text": [
            "20.2\n"
          ]
        }
      ],
      "source": [
        "list = [12, 16, 20, 20, 12, 30, 25, 23, 24, 20]\n",
        "mean = sum(list)/len(list)\n",
        "print(mean)"
      ]
    },
    {
      "cell_type": "markdown",
      "source": [
        "# **Median**"
      ],
      "metadata": {
        "id": "gH90F2mEr26E"
      }
    },
    {
      "cell_type": "markdown",
      "source": [
        "\n",
        "The Median is the middle value among all the values in sorted order. Here we need to calculate the mid-value of all the values in a dataset. But before calculating the Median, we need to arrange all the values in sorted order. There are two different ways of calculating the median value:\n",
        "\n",
        "\n",
        "*   when the total number of values is even: Median  = **[(n/2)th term + {(n/2)+1}th]/2**\n",
        "*   when the total number of values is odd: Median = **{(n+1)/2}thterm**\n",
        "\n",
        "\n",
        "\n",
        "\n",
        "\n"
      ],
      "metadata": {
        "id": "gSm2VQt3sE64"
      }
    },
    {
      "cell_type": "code",
      "source": [
        "list = [12,16, 20, 21, 12, 30, 25, 23, 24, 29]\n",
        "list.sort()\n",
        "print(list)\n",
        "if len(list)%2==0:\n",
        "  med1 = list[len(list)//2]\n",
        "  med2 = list[len(list)//2-1]\n",
        "  median = (med1 + med2) /2\n",
        "else:\n",
        "  median: list[len(list)//2]\n",
        "print(median)"
      ],
      "metadata": {
        "colab": {
          "base_uri": "https://localhost:8080/"
        },
        "id": "PGH9mSzCsAaj",
        "outputId": "3e8a5428-a5cf-497d-d73c-4131da960f0d"
      },
      "execution_count": null,
      "outputs": [
        {
          "output_type": "stream",
          "name": "stdout",
          "text": [
            "[12, 12, 16, 20, 21, 23, 24, 25, 29, 30]\n",
            "22.0\n"
          ]
        }
      ]
    },
    {
      "cell_type": "markdown",
      "source": [
        "# **Mode**"
      ],
      "metadata": {
        "id": "EbqE1-4EwiMC"
      }
    },
    {
      "cell_type": "markdown",
      "source": [
        "Mode is the most frequently occurring value among all the values. "
      ],
      "metadata": {
        "id": "_CUhPxCdwtsv"
      }
    },
    {
      "cell_type": "code",
      "source": [
        "list = [12, 16, 20, 20, 12, 30, 25, 23, 24, 20]\n",
        "frequency={}\n",
        "for i in list:\n",
        "  frequency.setdefault(i,0)\n",
        "  frequency[i] +=1\n",
        "print(frequency)\n",
        "frequent = max(frequency.values())\n",
        "for i, j in frequency.items():\n",
        "  if j == frequent:\n",
        "    mode = i\n",
        "\n",
        "print(mode)\n"
      ],
      "metadata": {
        "colab": {
          "base_uri": "https://localhost:8080/"
        },
        "id": "9kgSJujDwsmB",
        "outputId": "1f566290-7445-4d58-cdc7-8ef10097719d"
      },
      "execution_count": 37,
      "outputs": [
        {
          "output_type": "stream",
          "name": "stdout",
          "text": [
            "{12: 2, 16: 1, 20: 3, 30: 1, 25: 1, 23: 1, 24: 1}\n",
            "20\n"
          ]
        }
      ]
    },
    {
      "cell_type": "code",
      "source": [],
      "metadata": {
        "id": "ylrepsmtyD1N"
      },
      "execution_count": null,
      "outputs": []
    }
  ]
}