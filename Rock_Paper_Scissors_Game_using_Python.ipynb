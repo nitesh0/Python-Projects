{
  "nbformat": 4,
  "nbformat_minor": 0,
  "metadata": {
    "colab": {
      "provenance": [],
      "authorship_tag": "ABX9TyO0sZfZvrw4poiaeAyZmGh0"
    },
    "kernelspec": {
      "name": "python3",
      "display_name": "Python 3"
    },
    "language_info": {
      "name": "python"
    }
  },
  "cells": [
    {
      "cell_type": "markdown",
      "source": [
        "# **Rock Paper Scissors Game using Python**"
      ],
      "metadata": {
        "id": "Hd2E8u0RziT0"
      }
    },
    {
      "cell_type": "markdown",
      "source": [
        "Rock Paper Scissors is a hand game usually played between two people. In this game, scissors can beat paper, paper can beat rock, and rock can beat scissors. "
      ],
      "metadata": {
        "id": "jWMDAOMiziSi"
      }
    },
    {
      "cell_type": "code",
      "execution_count": 9,
      "metadata": {
        "colab": {
          "base_uri": "https://localhost:8080/"
        },
        "id": "2AeBCqmPzZg4",
        "outputId": "ab4484f6-0939-4af5-cab0-5ef89f1f4a63"
      },
      "outputs": [
        {
          "output_type": "stream",
          "name": "stdout",
          "text": [
            "Select the Rock, Paper, Scissors:paper\n",
            "player2 selects:paper\n",
            "Tie\n"
          ]
        }
      ],
      "source": [
        "import random\n",
        "\n",
        "player1 = input(\"Select the Rock, Paper, Scissors:\").lower()\n",
        "player2 = random.choice([\"Rock\",\"Paper\",\"Scissors\"]).lower()\n",
        "print(\"player2 selects:\"+ player2)\n",
        "if player1 == \"rock\" and player2 == \"scissors\":\n",
        "  print(\"player2 wins\")\n",
        "elif player1 == \"rock\" and player2 == \"paper\":\n",
        "  print(\"player2 wins\")\n",
        "elif player1 == \"paper\" and player2 == \"scissors\":\n",
        "  print(\"player2 wins\")\n",
        "elif player1 == player2:\n",
        "  print(\"Tie\")\n",
        "else:\n",
        "  print(\"player1 wins\")\n"
      ]
    },
    {
      "cell_type": "code",
      "source": [],
      "metadata": {
        "id": "s38M9Y8A1hKS"
      },
      "execution_count": null,
      "outputs": []
    }
  ]
}